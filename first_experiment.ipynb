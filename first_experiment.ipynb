{
  "cells": [
    {
      "cell_type": "markdown",
      "metadata": {
        "id": "view-in-github",
        "colab_type": "text"
      },
      "source": [
        "<a href=\"https://colab.research.google.com/github/minashkinvladislav/Frank_Wolfe/blob/main/first_experiment.ipynb\" target=\"_parent\"><img src=\"https://colab.research.google.com/assets/colab-badge.svg\" alt=\"Open In Colab\"/></a>"
      ]
    },
    {
      "cell_type": "markdown",
      "metadata": {
        "id": "apOR_pG9bBf4"
      },
      "source": [
        "# Квадратичная здадача"
      ]
    },
    {
      "cell_type": "code",
      "execution_count": 52,
      "metadata": {
        "colab": {
          "base_uri": "https://localhost:8080/"
        },
        "id": "mU4zhn2WbBf8",
        "outputId": "76f8b5b5-f802-49c4-d04d-d76a7d3080a4"
      },
      "outputs": [
        {
          "output_type": "execute_result",
          "data": {
            "text/plain": [
              "<module 'models' from '/content/models.py'>"
            ]
          },
          "metadata": {},
          "execution_count": 52
        }
      ],
      "source": [
        "from getpass import getpass\n",
        "!git clone https://github.com/minashkinvladislav/Frank_Wolfe\n",
        "import numpy as np\n",
        "from Frank_Wolfe import models\n",
        "from importlib import reload\n",
        "reload(models)"
      ]
    },
    {
      "cell_type": "code",
      "execution_count": 83,
      "metadata": {
        "colab": {
          "base_uri": "https://localhost:8080/"
        },
        "id": "wTUuyg9nbBf_",
        "outputId": "1b977506-a266-44a2-dd87-5057338daf09"
      },
      "outputs": [
        {
          "output_type": "stream",
          "name": "stdout",
          "text": [
            "504\n"
          ]
        }
      ],
      "source": [
        "# задание нашей задачи и ее гиперпараметров\n",
        "def f(x, args):\n",
        "    np.random.seed(args['seed'])\n",
        "    xi = args['sigma'] * np.random.standard_normal(1)\n",
        "    return 1./2 * x.T @ args['A'] @ x + xi\n",
        "\n",
        "def nabla_f_true(x, args):\n",
        "    return args['A'] @ x\n",
        "\n",
        "args = {}\n",
        "args['d'] = 10\n",
        "args['mu'] = 1\n",
        "args['L'] = 1000\n",
        "args['func'] = f\n",
        "args['seed'] = 18\n",
        "args['A'] = models.generate_A(args['d'], args['mu'], \n",
        "                              args['L'], args['seed'])\n",
        "np.random.seed(args['seed'])\n",
        "w_0 = np.random.random_sample(args['d'])\n",
        "w_0 = np.abs(w_0) / np.linalg.norm(w_0, ord = 1)"
      ]
    },
    {
      "cell_type": "code",
      "execution_count": 55,
      "metadata": {
        "id": "759G2G6ObBgA"
      },
      "outputs": [],
      "source": [
        "# Надо будет менять для экспериментов\n",
        "args['sigma'] = 1\n",
        "args['batch_size'] = 1"
      ]
    },
    {
      "cell_type": "code",
      "execution_count": 76,
      "metadata": {
        "colab": {
          "base_uri": "https://localhost:8080/"
        },
        "id": "YaHwGU1TbBgA",
        "outputId": "12301fe2-e537-4601-f175-1b5dd0ed0b3f"
      },
      "outputs": [
        {
          "output_type": "stream",
          "name": "stdout",
          "text": [
            "Using true gradient. f(w_sol) = 26.04074\n"
          ]
        }
      ],
      "source": [
        "# для зеркального спуска будем брать постоянный шаг 1/L\n",
        "def const_gamma(k, func, nabla_f, x_curr, x_sol, args):\n",
        "    return 1. / args['L']\n",
        "\n",
        "Gradient_Descent = models.GradientDescent(f, nabla_f_true, x_0=w_0, max_steps=10**4,\n",
        "                                          gamma_k=const_gamma, args=args,\n",
        "                                          criterium='gap', use_mirror=True)\n",
        "w_sol, _, _ = Gradient_Descent.search()\n",
        "print(\"Using true gradient. f(w_sol) = %.5f\" % f(w_sol, args))"
      ]
    },
    {
      "cell_type": "markdown",
      "metadata": {
        "id": "ZD0_49lybBgA"
      },
      "source": [
        "## Mirror descent\n",
        "\n",
        "### Two point feedback"
      ]
    },
    {
      "cell_type": "code",
      "execution_count": 85,
      "metadata": {
        "colab": {
          "base_uri": "https://localhost:8080/"
        },
        "id": "mWMAWAlfbBgB",
        "outputId": "66627a96-1a33-408c-a621-710624ad2730"
      },
      "outputs": [
        {
          "output_type": "stream",
          "name": "stdout",
          "text": [
            "Approx v1:  [156.09  53.02 155.88 106.54  92.74 170.55  38.74  57.81  93.38 -61.5 ]\n",
            "Approx v2: [120.1025   45.17648 115.70593  48.99134  77.14094 154.1909   52.35299\n",
            "  89.728    44.92294 -46.33114]\n",
            "1-point : [135.91 -27.61  45.94  37.53  84.08 151.12  54.15  92.2  102.77 -38.83]\n",
            "True:  [120.10249  45.17648 115.70593  48.99133  77.14093 154.1909   52.35298\n",
            "  89.728    44.92294 -46.33114]\n"
          ]
        }
      ],
      "source": [
        "reload(models)\n",
        "args['gamma'] = 10e-10\n",
        "args['batch_size'] = 50\n",
        "args['sigma'] = 1\n",
        "args['seed'] = 18\n",
        "args['norm'] = 2\n",
        "args['d'] = 10\n",
        "print(\"Approx v1: \", np.round(models.get_grad_tpf(w_0, args), 2))\n",
        "print(\"Approx v2:\", np.round(models.get_grad_tpf_v2(w_0, args), 5))\n",
        "print(\"1-point :\", np.round(models.get_grad_opf(w_0, args), 2))\n",
        "print(\"True: \", np.round(nabla_f_true(w_0, args), 5))"
      ]
    },
    {
      "cell_type": "code",
      "execution_count": 79,
      "metadata": {
        "colab": {
          "base_uri": "https://localhost:8080/",
          "height": 554
        },
        "id": "37dy-LZobBgB",
        "outputId": "d3b38e70-a7c9-4e5d-db60-69d271296aae"
      },
      "outputs": [
        {
          "output_type": "stream",
          "name": "stdout",
          "text": [
            "Mirror descent, TPF, norm=1. f(w_sol) = 26.69508             , w_sol in simplex: False\n"
          ]
        },
        {
          "output_type": "display_data",
          "data": {
            "text/plain": [
              "<Figure size 864x576 with 1 Axes>"
            ],
            "image/png": "[encoded data removed]"
          },
          "metadata": {
            "needs_background": "light"
          }
        }
      ],
      "source": [
        "errors_mir_tpf = []\n",
        "iterations_mir_tpf = []\n",
        "labels_mir_tpf = []\n",
        "\n",
        "# errors iterations labels 5 cells\n",
        "# fw og, mirror desc, proj simplex, prog: MBFW, +dop FW   \n",
        "for norm in [1]:\n",
        "      args['norm'] = norm\n",
        "      mirror_descent = models.GradientDescent(f, nabla_f=models.get_grad_tpf, x_0=w_0, \n",
        "                                              max_steps=10**4, gamma_k=const_gamma, args=args,\n",
        "                                              nabla_f_true=nabla_f_true,\n",
        "                                              criterium='gap', use_fw=True)\n",
        "\n",
        "      w_sol, errors, _ = mirror_descent.search()\n",
        "      is_in_simplex = ((w_sol == (np.abs(w_sol))).all() \\\n",
        "                       and (np.linalg.norm(w_sol, ord=1) == 1))\n",
        "      iterations = range(1, len(errors)+1)\n",
        "      errors_mir_tpf.append(errors)\n",
        "      iterations_mir_tpf.append(iterations)\n",
        "      labels_mir_tpf.append(\"Mirror descent, TPF, norm=%i\" % norm)\n",
        "      print(\"Mirror descent, TPF, norm=%i. f(w_sol) = %.5f \\\n",
        "            , w_sol in simplex: %s\" % (norm, f(w_sol, args), is_in_simplex))\n",
        "\n",
        "title = \"Mirror descent, two point feedback\"\n",
        "models.make_err_plot(iterations_mir_tpf, errors_mir_tpf,\n",
        "                     labels=labels_mir_tpf, title=title, markers=[None]*100)"
      ]
    },
    {
      "cell_type": "code",
      "execution_count": null,
      "metadata": {
        "id": "Pa3h6zzSbBgF"
      },
      "outputs": [],
      "source": [
        "print(w_sol)\n",
        "sum(w_sol)"
      ]
    },
    {
      "cell_type": "code",
      "execution_count": null,
      "metadata": {
        "id": "Y1rsY9E7bBgF"
      },
      "outputs": [],
      "source": []
    },
    {
      "cell_type": "code",
      "execution_count": null,
      "metadata": {
        "id": "ua5O4aPjbBgF"
      },
      "outputs": [],
      "source": []
    },
    {
      "cell_type": "code",
      "execution_count": null,
      "metadata": {
        "id": "Qigd-oOEbBgF"
      },
      "outputs": [],
      "source": []
    },
    {
      "cell_type": "code",
      "execution_count": null,
      "metadata": {
        "id": "RN-KZvWpbBgG"
      },
      "outputs": [],
      "source": []
    },
    {
      "cell_type": "code",
      "execution_count": 125,
      "metadata": {
        "colab": {
          "base_uri": "https://localhost:8080/",
          "height": 381
        },
        "id": "fr_RHSw_bBgG",
        "outputId": "63b4d994-e44e-4db6-95b6-6a8fc14980cd"
      },
      "outputs": [
        {
          "output_type": "error",
          "ename": "KeyboardInterrupt",
          "evalue": "ignored",
          "traceback": [
            "\u001b[0;31m---------------------------------------------------------------------------\u001b[0m",
            "\u001b[0;31mKeyboardInterrupt\u001b[0m                         Traceback (most recent call last)",
            "\u001b[0;32m<ipython-input-125-4fa8f31fc364>\u001b[0m in \u001b[0;36m<module>\u001b[0;34m\u001b[0m\n\u001b[1;32m      7\u001b[0m                                         criterium='gap', use_mirror=True)\n\u001b[1;32m      8\u001b[0m \u001b[0;34m\u001b[0m\u001b[0m\n\u001b[0;32m----> 9\u001b[0;31m \u001b[0mw_sol\u001b[0m\u001b[0;34m,\u001b[0m \u001b[0merrors\u001b[0m\u001b[0;34m,\u001b[0m \u001b[0m_\u001b[0m \u001b[0;34m=\u001b[0m \u001b[0mmirror_descent\u001b[0m\u001b[0;34m.\u001b[0m\u001b[0msearch\u001b[0m\u001b[0;34m(\u001b[0m\u001b[0;34m)\u001b[0m\u001b[0;34m\u001b[0m\u001b[0;34m\u001b[0m\u001b[0m\n\u001b[0m\u001b[1;32m     10\u001b[0m is_in_simplex = ((w_sol == (np.abs(w_sol))).all() \\\n\u001b[1;32m     11\u001b[0m                  and (np.linalg.norm(w_sol, ord=1) == 1))\n",
            "\u001b[0;32m/content/models.py\u001b[0m in \u001b[0;36msearch\u001b[0;34m(self)\u001b[0m\n\u001b[1;32m    141\u001b[0m             \u001b[0mx_next\u001b[0m \u001b[0;34m=\u001b[0m \u001b[0;36m0\u001b[0m\u001b[0;34m\u001b[0m\u001b[0;34m\u001b[0m\u001b[0m\n\u001b[1;32m    142\u001b[0m             \u001b[0;32mif\u001b[0m \u001b[0mself\u001b[0m\u001b[0;34m.\u001b[0m\u001b[0muse_mirror\u001b[0m \u001b[0;32mis\u001b[0m \u001b[0;32mTrue\u001b[0m\u001b[0;34m:\u001b[0m\u001b[0;34m\u001b[0m\u001b[0;34m\u001b[0m\u001b[0m\n\u001b[0;32m--> 143\u001b[0;31m                 \u001b[0mx_next\u001b[0m \u001b[0;34m=\u001b[0m \u001b[0mGradientDescent\u001b[0m\u001b[0;34m.\u001b[0m\u001b[0mget_next_mirror\u001b[0m\u001b[0;34m(\u001b[0m\u001b[0mself\u001b[0m\u001b[0;34m,\u001b[0m \u001b[0mx_curr\u001b[0m\u001b[0;34m,\u001b[0m \u001b[0mk\u001b[0m\u001b[0;34m)\u001b[0m\u001b[0;34m\u001b[0m\u001b[0;34m\u001b[0m\u001b[0m\n\u001b[0m\u001b[1;32m    144\u001b[0m             \u001b[0;32melif\u001b[0m \u001b[0mself\u001b[0m\u001b[0;34m.\u001b[0m\u001b[0muse_fw\u001b[0m \u001b[0;32mis\u001b[0m \u001b[0;32mTrue\u001b[0m\u001b[0;34m:\u001b[0m\u001b[0;34m\u001b[0m\u001b[0;34m\u001b[0m\u001b[0m\n\u001b[1;32m    145\u001b[0m                 \u001b[0mx_next\u001b[0m \u001b[0;34m=\u001b[0m \u001b[0mGradientDescent\u001b[0m\u001b[0;34m.\u001b[0m\u001b[0mget_next_fw\u001b[0m\u001b[0;34m(\u001b[0m\u001b[0mself\u001b[0m\u001b[0;34m,\u001b[0m \u001b[0mx_curr\u001b[0m\u001b[0;34m,\u001b[0m \u001b[0mk\u001b[0m\u001b[0;34m)\u001b[0m\u001b[0;34m\u001b[0m\u001b[0;34m\u001b[0m\u001b[0m\n",
            "\u001b[0;32m/content/models.py\u001b[0m in \u001b[0;36mget_next_mirror\u001b[0;34m(self, x_curr, k)\u001b[0m\n\u001b[1;32m     87\u001b[0m         \u001b[0mx_next\u001b[0m \u001b[0;34m=\u001b[0m \u001b[0mnp\u001b[0m\u001b[0;34m.\u001b[0m\u001b[0mcopy\u001b[0m\u001b[0;34m(\u001b[0m\u001b[0mx_curr\u001b[0m\u001b[0;34m)\u001b[0m\u001b[0;34m\u001b[0m\u001b[0;34m\u001b[0m\u001b[0m\n\u001b[1;32m     88\u001b[0m         \u001b[0;32mfor\u001b[0m \u001b[0mi\u001b[0m\u001b[0;34m,\u001b[0m \u001b[0mx_i\u001b[0m \u001b[0;32min\u001b[0m \u001b[0menumerate\u001b[0m\u001b[0;34m(\u001b[0m\u001b[0mx_curr\u001b[0m\u001b[0;34m)\u001b[0m\u001b[0;34m:\u001b[0m\u001b[0;34m\u001b[0m\u001b[0;34m\u001b[0m\u001b[0m\n\u001b[0;32m---> 89\u001b[0;31m             \u001b[0mx_next\u001b[0m\u001b[0;34m[\u001b[0m\u001b[0mi\u001b[0m\u001b[0;34m]\u001b[0m \u001b[0;34m=\u001b[0m \u001b[0;34m(\u001b[0m\u001b[0mx_i\u001b[0m \u001b[0;34m/\u001b[0m \u001b[0msigma\u001b[0m\u001b[0;34m)\u001b[0m \u001b[0;34m*\u001b[0m \u001b[0mnp\u001b[0m\u001b[0;34m.\u001b[0m\u001b[0mexp\u001b[0m\u001b[0;34m(\u001b[0m\u001b[0;34m-\u001b[0m\u001b[0mgamma\u001b[0m \u001b[0;34m*\u001b[0m \u001b[0mself\u001b[0m\u001b[0;34m.\u001b[0m\u001b[0mnabla_f\u001b[0m\u001b[0;34m(\u001b[0m\u001b[0mx_curr\u001b[0m\u001b[0;34m,\u001b[0m \u001b[0mself\u001b[0m\u001b[0;34m.\u001b[0m\u001b[0margs\u001b[0m\u001b[0;34m)\u001b[0m\u001b[0;34m[\u001b[0m\u001b[0mi\u001b[0m\u001b[0;34m]\u001b[0m\u001b[0;34m)\u001b[0m\u001b[0;34m\u001b[0m\u001b[0;34m\u001b[0m\u001b[0m\n\u001b[0m\u001b[1;32m     90\u001b[0m \u001b[0;34m\u001b[0m\u001b[0m\n\u001b[1;32m     91\u001b[0m         \u001b[0;32mreturn\u001b[0m \u001b[0mx_next\u001b[0m\u001b[0;34m\u001b[0m\u001b[0;34m\u001b[0m\u001b[0m\n",
            "\u001b[0;32m/content/models.py\u001b[0m in \u001b[0;36mget_grad_opf\u001b[0;34m(x, args)\u001b[0m\n\u001b[1;32m    230\u001b[0m     \u001b[0;32mfor\u001b[0m \u001b[0m_\u001b[0m \u001b[0;32min\u001b[0m \u001b[0mrange\u001b[0m\u001b[0;34m(\u001b[0m\u001b[0mbatch_size\u001b[0m\u001b[0;34m)\u001b[0m\u001b[0;34m:\u001b[0m\u001b[0;34m\u001b[0m\u001b[0;34m\u001b[0m\u001b[0m\n\u001b[1;32m    231\u001b[0m         \u001b[0me\u001b[0m \u001b[0;34m=\u001b[0m \u001b[0mnp\u001b[0m\u001b[0;34m.\u001b[0m\u001b[0mrandom\u001b[0m\u001b[0;34m.\u001b[0m\u001b[0mrandom_sample\u001b[0m\u001b[0;34m(\u001b[0m\u001b[0md\u001b[0m\u001b[0;34m)\u001b[0m\u001b[0;34m\u001b[0m\u001b[0;34m\u001b[0m\u001b[0m\n\u001b[0;32m--> 232\u001b[0;31m         \u001b[0me\u001b[0m \u001b[0;34m=\u001b[0m \u001b[0me\u001b[0m \u001b[0;34m/\u001b[0m \u001b[0mnp\u001b[0m\u001b[0;34m.\u001b[0m\u001b[0mlinalg\u001b[0m\u001b[0;34m.\u001b[0m\u001b[0mnorm\u001b[0m\u001b[0;34m(\u001b[0m\u001b[0me\u001b[0m\u001b[0;34m,\u001b[0m \u001b[0mord\u001b[0m\u001b[0;34m=\u001b[0m\u001b[0mnorm\u001b[0m\u001b[0;34m)\u001b[0m\u001b[0;34m\u001b[0m\u001b[0;34m\u001b[0m\u001b[0m\n\u001b[0m\u001b[1;32m    233\u001b[0m \u001b[0;34m\u001b[0m\u001b[0m\n\u001b[1;32m    234\u001b[0m         \u001b[0mnabla_f\u001b[0m \u001b[0;34m+=\u001b[0m \u001b[0mfunc\u001b[0m\u001b[0;34m(\u001b[0m\u001b[0mx\u001b[0m \u001b[0;34m+\u001b[0m \u001b[0mgamma\u001b[0m \u001b[0;34m*\u001b[0m \u001b[0me\u001b[0m\u001b[0;34m,\u001b[0m \u001b[0margs\u001b[0m\u001b[0;34m)\u001b[0m \u001b[0;34m/\u001b[0m \u001b[0mgamma\u001b[0m \u001b[0;34m*\u001b[0m \u001b[0me\u001b[0m\u001b[0;34m\u001b[0m\u001b[0;34m\u001b[0m\u001b[0m\n",
            "\u001b[0;32m/usr/local/lib/python3.8/dist-packages/numpy/core/overrides.py\u001b[0m in \u001b[0;36mnorm\u001b[0;34m(*args, **kwargs)\u001b[0m\n",
            "\u001b[0;32m/usr/local/lib/python3.8/dist-packages/numpy/linalg/linalg.py\u001b[0m in \u001b[0;36mnorm\u001b[0;34m(x, ord, axis, keepdims)\u001b[0m\n\u001b[1;32m   2534\u001b[0m         \u001b[0;32mif\u001b[0m \u001b[0mord\u001b[0m \u001b[0;34m==\u001b[0m \u001b[0mInf\u001b[0m\u001b[0;34m:\u001b[0m\u001b[0;34m\u001b[0m\u001b[0;34m\u001b[0m\u001b[0m\n\u001b[1;32m   2535\u001b[0m             \u001b[0;32mreturn\u001b[0m \u001b[0mabs\u001b[0m\u001b[0;34m(\u001b[0m\u001b[0mx\u001b[0m\u001b[0;34m)\u001b[0m\u001b[0;34m.\u001b[0m\u001b[0mmax\u001b[0m\u001b[0;34m(\u001b[0m\u001b[0maxis\u001b[0m\u001b[0;34m=\u001b[0m\u001b[0maxis\u001b[0m\u001b[0;34m,\u001b[0m \u001b[0mkeepdims\u001b[0m\u001b[0;34m=\u001b[0m\u001b[0mkeepdims\u001b[0m\u001b[0;34m)\u001b[0m\u001b[0;34m\u001b[0m\u001b[0;34m\u001b[0m\u001b[0m\n\u001b[0;32m-> 2536\u001b[0;31m         \u001b[0;32melif\u001b[0m \u001b[0mord\u001b[0m \u001b[0;34m==\u001b[0m \u001b[0;34m-\u001b[0m\u001b[0mInf\u001b[0m\u001b[0;34m:\u001b[0m\u001b[0;34m\u001b[0m\u001b[0;34m\u001b[0m\u001b[0m\n\u001b[0m\u001b[1;32m   2537\u001b[0m             \u001b[0;32mreturn\u001b[0m \u001b[0mabs\u001b[0m\u001b[0;34m(\u001b[0m\u001b[0mx\u001b[0m\u001b[0;34m)\u001b[0m\u001b[0;34m.\u001b[0m\u001b[0mmin\u001b[0m\u001b[0;34m(\u001b[0m\u001b[0maxis\u001b[0m\u001b[0;34m=\u001b[0m\u001b[0maxis\u001b[0m\u001b[0;34m,\u001b[0m \u001b[0mkeepdims\u001b[0m\u001b[0;34m=\u001b[0m\u001b[0mkeepdims\u001b[0m\u001b[0;34m)\u001b[0m\u001b[0;34m\u001b[0m\u001b[0;34m\u001b[0m\u001b[0m\n\u001b[1;32m   2538\u001b[0m         \u001b[0;32melif\u001b[0m \u001b[0mord\u001b[0m \u001b[0;34m==\u001b[0m \u001b[0;36m0\u001b[0m\u001b[0;34m:\u001b[0m\u001b[0;34m\u001b[0m\u001b[0;34m\u001b[0m\u001b[0m\n",
            "\u001b[0;31mKeyboardInterrupt\u001b[0m: "
          ]
        }
      ],
      "source": [
        "# OPF, norm = 1\n",
        "args['gamma'] = 1e-4\n",
        "args['norm'] = 1\n",
        "mirror_descent = models.GradientDescent(f, nabla_f=models.get_grad_opf, x_0=w_0, \n",
        "                                        max_steps=10**4, gamma_k=const_gamma, args=args,\n",
        "                                        nabla_f_true=nabla_f_true,\n",
        "                                        criterium='gap', use_mirror=True)\n",
        "\n",
        "w_sol, errors, _ = mirror_descent.search()\n",
        "is_in_simplex = ((w_sol == (np.abs(w_sol))).all() \\\n",
        "                 and (np.linalg.norm(w_sol, ord=1) == 1))\n",
        "iterations = range(1, len(errors)+1)\n",
        "errors_mir.append(errors)\n",
        "iterations_mir.append(iterations)\n",
        "labels_mir.append(\"Mirror descent, OPF, norm=1\")\n",
        "print(\"Mirror descent, OPF, norm=1. f(w_sol) = %.5f \\\n",
        "      , w_sol in simplex: %s\" % (f(w_sol, args), is_in_simplex))\n",
        "\n",
        "# OPF, norm = 2\n",
        "args['norm'] = 2\n",
        "mirror_descent = models.GradientDescent(f, nabla_f=models.get_grad_opf, x_0=w_0, \n",
        "                                        max_steps=10**4, gamma_k=const_gamma, args=args,\n",
        "                                        nabla_f_true=nabla_f_true,\n",
        "                                        criterium='gap', use_mirror=True)\n",
        "\n",
        "w_sol, errors, _ = mirror_descent.search()\n",
        "is_in_simplex = ((w_sol == (np.abs(w_sol))).all() \\\n",
        "                 and (np.linalg.norm(w_sol, ord=1) == 1))\n",
        "iterations = range(1, len(errors)+1)\n",
        "errors_mir.append(errors)\n",
        "iterations_mir.append(iterations)\n",
        "labels_mir.append(\"Mirror descent, OPF, norm=2\")\n",
        "print(\"Mirror descent, OPF, norm=2. f(w_sol) = %.5f \\\n",
        "      , w_sol in simplex: %s\" % (f(w_sol, args), is_in_simplex))\n",
        "\n",
        "title = \"Mirror descent\"\n",
        "models.make_err_plot(iterations_mir, errors_mir,\n",
        "                     labels=labels_mir, title=title, markers=[None]*100)\n",
        "    "
      ]
    },
    {
      "cell_type": "code",
      "execution_count": null,
      "metadata": {
        "id": "EuuU986xbBgG"
      },
      "outputs": [],
      "source": []
    },
    {
      "cell_type": "code",
      "execution_count": null,
      "metadata": {
        "id": "_xSQdJSubBgG"
      },
      "outputs": [],
      "source": []
    },
    {
      "cell_type": "code",
      "execution_count": null,
      "metadata": {
        "id": "Qnu3i9jBbBgG"
      },
      "outputs": [],
      "source": []
    },
    {
      "cell_type": "markdown",
      "metadata": {
        "id": "KOEQdjZobBgH"
      },
      "source": []
    }
  ],
  "metadata": {
    "kernelspec": {
      "display_name": "Python 3.10 (tensorflow)",
      "language": "python",
      "name": "tensorflow"
    },
    "language_info": {
      "codemirror_mode": {
        "name": "ipython",
        "version": 3
      },
      "file_extension": ".py",
      "mimetype": "text/x-python",
      "name": "python",
      "nbconvert_exporter": "python",
      "pygments_lexer": "ipython3",
      "version": "3.10.8"
    },
    "orig_nbformat": 4,
    "vscode": {
      "interpreter": {
        "hash": "31f2aee4e71d21fbe5cf8b01ff0e069b9275f58929596ceb00d14d90e3e16cd6"
      }
    },
    "colab": {
      "provenance": [],
      "include_colab_link": true
    }
  },
  "nbformat": 4,
  "nbformat_minor": 0
}